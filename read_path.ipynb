{
 "cells": [
  {
   "cell_type": "code",
   "execution_count": 2,
   "id": "091f5979",
   "metadata": {},
   "outputs": [],
   "source": [
    "import pandas as pd\n",
    "import os\n",
    "import glob\n",
    "# https://raw.githubusercontent.com/anan211139/abtproject/refs/heads/master/P011-ตรวจสอบคุณภาพอากาศเชิงรุกในโรงงาน/487054319_991300749844741_5552638543015965377_n.jpg"
   ]
  },
  {
   "cell_type": "code",
   "execution_count": null,
   "id": "00f89bba",
   "metadata": {},
   "outputs": [
    {
     "name": "stdout",
     "output_type": "stream",
     "text": [
      "Processing path: P013-สนับสนุนให้เกิด ecosystem รถพลังงานไฟฟ้า\n",
      "https://raw.githubusercontent.com/anan211139/abtproject/refs/heads/master/P013-สนับสนุนให้เกิด ecosystem รถพลังงานไฟฟ้า/480402424_955361353440572_7819985972726377003_n.jpg,https://raw.githubusercontent.com/anan211139/abtproject/refs/heads/master/P013-สนับสนุนให้เกิด ecosystem รถพลังงานไฟฟ้า/129956534_2781444132114556_2197863433895696878_n.jpg,https://raw.githubusercontent.com/anan211139/abtproject/refs/heads/master/P013-สนับสนุนให้เกิด ecosystem รถพลังงานไฟฟ้า/484952947_979165621060145_8441064132130871917_n.jpg,https://raw.githubusercontent.com/anan211139/abtproject/refs/heads/master/P013-สนับสนุนให้เกิด ecosystem รถพลังงานไฟฟ้า/129693125_2781444082114561_106161132010626865_n.jpg,https://raw.githubusercontent.com/anan211139/abtproject/refs/heads/master/P013-สนับสนุนให้เกิด ecosystem รถพลังงานไฟฟ้า/509859696_1058835249757957_5455478229526273638_n.jpg,https://raw.githubusercontent.com/anan211139/abtproject/refs/heads/master/P013-สนับสนุนให้เกิด ecosystem รถพลังงานไฟฟ้า/LINE_ALBUM_BRT_250701_1.jpg,https://raw.githubusercontent.com/anan211139/abtproject/refs/heads/master/P013-สนับสนุนให้เกิด ecosystem รถพลังงานไฟฟ้า/LINE_ALBUM_BRT_250701_3.jpg,https://raw.githubusercontent.com/anan211139/abtproject/refs/heads/master/P013-สนับสนุนให้เกิด ecosystem รถพลังงานไฟฟ้า/LINE_ALBUM_BRT_250701_2.jpg,https://raw.githubusercontent.com/anan211139/abtproject/refs/heads/master/P013-สนับสนุนให้เกิด ecosystem รถพลังงานไฟฟ้า/510028673_1058835233091292_5198122937157665847_n.jpg\n",
      "Processing path: P045-พัฒนาแพลตฟอร์มรับฟังความคิดเห็นของประชาชนเกี่ยวกับนโยบาย\n",
      "https://raw.githubusercontent.com/anan211139/abtproject/refs/heads/master/P045-พัฒนาแพลตฟอร์มรับฟังความคิดเห็นของประชาชนเกี่ยวกับนโยบาย/484844117_986347130340103_292909101371300073_n.jpg,https://raw.githubusercontent.com/anan211139/abtproject/refs/heads/master/P045-พัฒนาแพลตฟอร์มรับฟังความคิดเห็นของประชาชนเกี่ยวกับนโยบาย/messageImage_1751555070228_0.jpg,https://raw.githubusercontent.com/anan211139/abtproject/refs/heads/master/P045-พัฒนาแพลตฟอร์มรับฟังความคิดเห็นของประชาชนเกี่ยวกับนโยบาย/491997853_1013809640927185_9159568070965149059_n.jpg,https://raw.githubusercontent.com/anan211139/abtproject/refs/heads/master/P045-พัฒนาแพลตฟอร์มรับฟังความคิดเห็นของประชาชนเกี่ยวกับนโยบาย/messageImage_1751555027004.jpg,https://raw.githubusercontent.com/anan211139/abtproject/refs/heads/master/P045-พัฒนาแพลตฟอร์มรับฟังความคิดเห็นของประชาชนเกี่ยวกับนโยบาย/messageImage_1751555090196_0.jpg,https://raw.githubusercontent.com/anan211139/abtproject/refs/heads/master/P045-พัฒนาแพลตฟอร์มรับฟังความคิดเห็นของประชาชนเกี่ยวกับนโยบาย/504933495_1045847921056690_7370445504798518961_n.jpg\n",
      "Processing path: P011-ตรวจสอบคุณภาพอากาศเชิงรุกในโรงงาน\n",
      "https://raw.githubusercontent.com/anan211139/abtproject/refs/heads/master/P011-ตรวจสอบคุณภาพอากาศเชิงรุกในโรงงาน/485160850_985737383734411_4037989516608500190_n.jpg,https://raw.githubusercontent.com/anan211139/abtproject/refs/heads/master/P011-ตรวจสอบคุณภาพอากาศเชิงรุกในโรงงาน/485086129_985737380401078_3428741009538042856_n.jpg,https://raw.githubusercontent.com/anan211139/abtproject/refs/heads/master/P011-ตรวจสอบคุณภาพอากาศเชิงรุกในโรงงาน/487054319_991300749844741_5552638543015965377_n.jpg,https://raw.githubusercontent.com/anan211139/abtproject/refs/heads/master/P011-ตรวจสอบคุณภาพอากาศเชิงรุกในโรงงาน/484928140_985737500401066_4026102846207822041_n.jpg,https://raw.githubusercontent.com/anan211139/abtproject/refs/heads/master/P011-ตรวจสอบคุณภาพอากาศเชิงรุกในโรงงาน/484072925_985737497067733_7950608099947625901_n.jpg\n",
      "Processing path: P027-ถนน ซอย มีทางเดิน-ปั่นสะดวก เชื่อมขนส่งสบาย ลดการใช้รถ\n",
      "https://raw.githubusercontent.com/anan211139/abtproject/refs/heads/master/P027-ถนน ซอย มีทางเดิน-ปั่นสะดวก เชื่อมขนส่งสบาย ลดการใช้รถ/486132706_989411686700314_8013153240831208137_n.jpg,https://raw.githubusercontent.com/anan211139/abtproject/refs/heads/master/P027-ถนน ซอย มีทางเดิน-ปั่นสะดวก เชื่อมขนส่งสบาย ลดการใช้รถ/84582709_2708697009221663_6833507321163808768_n.jpg,https://raw.githubusercontent.com/anan211139/abtproject/refs/heads/master/P027-ถนน ซอย มีทางเดิน-ปั่นสะดวก เชื่อมขนส่งสบาย ลดการใช้รถ/476237566_609307868621231_3184085216564052253_n.jpg,https://raw.githubusercontent.com/anan211139/abtproject/refs/heads/master/P027-ถนน ซอย มีทางเดิน-ปั่นสะดวก เชื่อมขนส่งสบาย ลดการใช้รถ/510819478_713076198244397_4211912219159799339_n.jpg,https://raw.githubusercontent.com/anan211139/abtproject/refs/heads/master/P027-ถนน ซอย มีทางเดิน-ปั่นสะดวก เชื่อมขนส่งสบาย ลดการใช้รถ/476451321_609307858621232_8181118597388011812_n.jpg,https://raw.githubusercontent.com/anan211139/abtproject/refs/heads/master/P027-ถนน ซอย มีทางเดิน-ปั่นสะดวก เชื่อมขนส่งสบาย ลดการใช้รถ/485685231_979723477671026_4466612889585281794_n.jpg,https://raw.githubusercontent.com/anan211139/abtproject/refs/heads/master/P027-ถนน ซอย มีทางเดิน-ปั่นสะดวก เชื่อมขนส่งสบาย ลดการใช้รถ/485622795_977662094543831_1674119880750273391_n.jpg,https://raw.githubusercontent.com/anan211139/abtproject/refs/heads/master/P027-ถนน ซอย มีทางเดิน-ปั่นสะดวก เชื่อมขนส่งสบาย ลดการใช้รถ/486067549_989411573366992_3870152549883464125_n.jpg,https://raw.githubusercontent.com/anan211139/abtproject/refs/heads/master/P027-ถนน ซอย มีทางเดิน-ปั่นสะดวก เชื่อมขนส่งสบาย ลดการใช้รถ/484906646_986768983631251_8451645350354884537_n.jpg,https://raw.githubusercontent.com/anan211139/abtproject/refs/heads/master/P027-ถนน ซอย มีทางเดิน-ปั่นสะดวก เชื่อมขนส่งสบาย ลดการใช้รถ/481776525_965846342392073_6180070854578523576_n.jpg,https://raw.githubusercontent.com/anan211139/abtproject/refs/heads/master/P027-ถนน ซอย มีทางเดิน-ปั่นสะดวก เชื่อมขนส่งสบาย ลดการใช้รถ/85158411_2708696989221665_7981335505658707968_n.jpg,https://raw.githubusercontent.com/anan211139/abtproject/refs/heads/master/P027-ถนน ซอย มีทางเดิน-ปั่นสะดวก เชื่อมขนส่งสบาย ลดการใช้รถ/503213076_1032745929035447_5862610139982548036_n.jpg,https://raw.githubusercontent.com/anan211139/abtproject/refs/heads/master/P027-ถนน ซอย มีทางเดิน-ปั่นสะดวก เชื่อมขนส่งสบาย ลดการใช้รถ/485991602_989411720033644_7065853666992099926_n.jpg,https://raw.githubusercontent.com/anan211139/abtproject/refs/heads/master/P027-ถนน ซอย มีทางเดิน-ปั่นสะดวก เชื่อมขนส่งสบาย ลดการใช้รถ/507641358_10221941686810937_3058038265662760377_n.jpg,https://raw.githubusercontent.com/anan211139/abtproject/refs/heads/master/P027-ถนน ซอย มีทางเดิน-ปั่นสะดวก เชื่อมขนส่งสบาย ลดการใช้รถ/503255418_1032747132368660_9094558812712385574_n.jpg\n",
      "Processing path: P016-ป้ายรถเมล์มีข้อมูลและสว่างปลอดภัยทุกป้าย\n",
      "https://raw.githubusercontent.com/anan211139/abtproject/refs/heads/master/P016-ป้ายรถเมล์มีข้อมูลและสว่างปลอดภัยทุกป้าย/486315744_991470823161067_6558049030688508113_n.jpg,https://raw.githubusercontent.com/anan211139/abtproject/refs/heads/master/P016-ป้ายรถเมล์มีข้อมูลและสว่างปลอดภัยทุกป้าย/487060236_984248610551846_9130559204802236722_n.jpg,https://raw.githubusercontent.com/anan211139/abtproject/refs/heads/master/P016-ป้ายรถเมล์มีข้อมูลและสว่างปลอดภัยทุกป้าย/486376381_991470826494400_1034929708472135835_n.jpg,https://raw.githubusercontent.com/anan211139/abtproject/refs/heads/master/P016-ป้ายรถเมล์มีข้อมูลและสว่างปลอดภัยทุกป้าย/486793549_991470699827746_7094583801387662113_n.jpg,https://raw.githubusercontent.com/anan211139/abtproject/refs/heads/master/P016-ป้ายรถเมล์มีข้อมูลและสว่างปลอดภัยทุกป้าย/486503175_991467486494734_6188251959005600011_n.jpg\n",
      "Processing path: P020-พัฒนาระบบติดตามการขออนุญาตกับ กทม.\n",
      "https://raw.githubusercontent.com/anan211139/abtproject/refs/heads/master/P020-พัฒนาระบบติดตามการขออนุญาตกับ กทม./สกรีนช็อต 2025-07-01 223311.png,https://raw.githubusercontent.com/anan211139/abtproject/refs/heads/master/P020-พัฒนาระบบติดตามการขออนุญาตกับ กทม./สกรีนช็อต 2025-07-01 223102.png,https://raw.githubusercontent.com/anan211139/abtproject/refs/heads/master/P020-พัฒนาระบบติดตามการขออนุญาตกับ กทม./สกรีนช็อต 2025-07-01 223407.png,https://raw.githubusercontent.com/anan211139/abtproject/refs/heads/master/P020-พัฒนาระบบติดตามการขออนุญาตกับ กทม./สกรีนช็อต 2025-07-01 223344.png,https://raw.githubusercontent.com/anan211139/abtproject/refs/heads/master/P020-พัฒนาระบบติดตามการขออนุญาตกับ กทม./สกรีนช็อต 2025-07-01 223036.png,https://raw.githubusercontent.com/anan211139/abtproject/refs/heads/master/P020-พัฒนาระบบติดตามการขออนุญาตกับ กทม./สกรีนช็อต 2025-07-01 223444.png\n",
      "Processing path: P051-เปิดเผยข้อมูลศักยภาพสูงของ กทม. (Open Bangkok)\n",
      "https://raw.githubusercontent.com/anan211139/abtproject/refs/heads/master/P051-เปิดเผยข้อมูลศักยภาพสูงของ กทม. (Open Bangkok)/messageImage_1751555853647_0.jpg,https://raw.githubusercontent.com/anan211139/abtproject/refs/heads/master/P051-เปิดเผยข้อมูลศักยภาพสูงของ กทม. (Open Bangkok)/messageImage_1751555902727_0.jpg,https://raw.githubusercontent.com/anan211139/abtproject/refs/heads/master/P051-เปิดเผยข้อมูลศักยภาพสูงของ กทม. (Open Bangkok)/messageImage_1751555827854_0.jpg\n"
     ]
    }
   ],
   "source": [
    "# Find all folders starting with 'P' in the current directory\n",
    "paths = glob.glob(os.path.join('P*'))\n",
    "\n",
    "# Store all image URLs\n",
    "\n",
    "\n",
    "# Read all files in the path\n",
    "for p in paths:\n",
    "    image_urls = []\n",
    "    print(f'Processing path: {p}')\n",
    "    if os.path.isdir(p):\n",
    "        \n",
    "        files = glob.glob(os.path.join(p, '*'))\n",
    "        for file in files:\n",
    "            if file.endswith('.jpg') or file.endswith('.png'):\n",
    "                # print(file)\n",
    "                url = 'https://raw.githubusercontent.com/anan211139/abtproject/refs/heads/master/' + file.replace('\\\\', '/')\n",
    "                image_urls.append(url)\n",
    "    else:\n",
    "        if p.endswith('.jpg') or p.endswith('.png'):\n",
    "            # print(p)\n",
    "            url = 'https://raw.githubusercontent.com/anan211139/abtproject/refs/heads/master/' + p.replace('\\\\', '/')\n",
    "            image_urls.append(url)\n",
    "    print(','.join(image_urls))\n",
    "\n"
   ]
  }
 ],
 "metadata": {
  "kernelspec": {
   "display_name": "base",
   "language": "python",
   "name": "python3"
  },
  "language_info": {
   "codemirror_mode": {
    "name": "ipython",
    "version": 3
   },
   "file_extension": ".py",
   "mimetype": "text/x-python",
   "name": "python",
   "nbconvert_exporter": "python",
   "pygments_lexer": "ipython3",
   "version": "3.9.7"
  }
 },
 "nbformat": 4,
 "nbformat_minor": 5
}
